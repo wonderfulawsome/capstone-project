{
 "cells": [
  {
   "cell_type": "code",
   "execution_count": 1,
   "metadata": {},
   "outputs": [
    {
     "data": {
      "text/html": [
       "<div>\n",
       "<style scoped>\n",
       "    .dataframe tbody tr th:only-of-type {\n",
       "        vertical-align: middle;\n",
       "    }\n",
       "\n",
       "    .dataframe tbody tr th {\n",
       "        vertical-align: top;\n",
       "    }\n",
       "\n",
       "    .dataframe thead th {\n",
       "        text-align: right;\n",
       "    }\n",
       "</style>\n",
       "<table border=\"1\" class=\"dataframe\">\n",
       "  <thead>\n",
       "    <tr style=\"text-align: right;\">\n",
       "      <th></th>\n",
       "      <th>Ticker</th>\n",
       "      <th>RSI</th>\n",
       "      <th>0</th>\n",
       "      <th>Beta</th>\n",
       "      <th>DividendYield</th>\n",
       "      <th>PER</th>\n",
       "      <th>Volatility</th>\n",
       "    </tr>\n",
       "  </thead>\n",
       "  <tbody>\n",
       "    <tr>\n",
       "      <th>0</th>\n",
       "      <td>AAPL</td>\n",
       "      <td>60.891036</td>\n",
       "      <td>6.888900e+07</td>\n",
       "      <td>1.264</td>\n",
       "      <td>0.55</td>\n",
       "      <td>{'PER': 28.970451}</td>\n",
       "      <td>0.012570</td>\n",
       "    </tr>\n",
       "    <tr>\n",
       "      <th>1</th>\n",
       "      <td>MSFT</td>\n",
       "      <td>61.321318</td>\n",
       "      <td>6.343245e+06</td>\n",
       "      <td>0.893</td>\n",
       "      <td>0.72</td>\n",
       "      <td>{'PER': 35.88205}</td>\n",
       "      <td>0.015824</td>\n",
       "    </tr>\n",
       "    <tr>\n",
       "      <th>2</th>\n",
       "      <td>AMZN</td>\n",
       "      <td>61.228543</td>\n",
       "      <td>5.172203e+06</td>\n",
       "      <td>1.155</td>\n",
       "      <td>NaN</td>\n",
       "      <td>{'PER': 52.407307}</td>\n",
       "      <td>0.020805</td>\n",
       "    </tr>\n",
       "    <tr>\n",
       "      <th>3</th>\n",
       "      <td>FB</td>\n",
       "      <td>NaN</td>\n",
       "      <td>2.416384e+06</td>\n",
       "      <td>NaN</td>\n",
       "      <td>NaN</td>\n",
       "      <td>{'PER': None}</td>\n",
       "      <td>NaN</td>\n",
       "    </tr>\n",
       "    <tr>\n",
       "      <th>4</th>\n",
       "      <td>GOOGL</td>\n",
       "      <td>53.160397</td>\n",
       "      <td>3.051076e+06</td>\n",
       "      <td>1.019</td>\n",
       "      <td>0.47</td>\n",
       "      <td>{'PER': 25.901989}</td>\n",
       "      <td>0.019149</td>\n",
       "    </tr>\n",
       "  </tbody>\n",
       "</table>\n",
       "</div>"
      ],
      "text/plain": [
       "  Ticker        RSI             0   Beta  DividendYield                 PER  \\\n",
       "0   AAPL  60.891036  6.888900e+07  1.264           0.55  {'PER': 28.970451}   \n",
       "1   MSFT  61.321318  6.343245e+06  0.893           0.72   {'PER': 35.88205}   \n",
       "2   AMZN  61.228543  5.172203e+06  1.155            NaN  {'PER': 52.407307}   \n",
       "3     FB        NaN  2.416384e+06    NaN            NaN       {'PER': None}   \n",
       "4  GOOGL  53.160397  3.051076e+06  1.019           0.47  {'PER': 25.901989}   \n",
       "\n",
       "   Volatility  \n",
       "0    0.012570  \n",
       "1    0.015824  \n",
       "2    0.020805  \n",
       "3         NaN  \n",
       "4    0.019149  "
      ]
     },
     "execution_count": 1,
     "metadata": {},
     "output_type": "execute_result"
    }
   ],
   "source": [
    "import pandas as pd\n",
    "\n",
    "# 각 파일을 로드\n",
    "average_rsi_df = pd.read_csv('C:/Users/82106/Desktop/경영 캡스톤 프로젝트2/average_rsi_df.csv')\n",
    "average_volumes = pd.read_csv('C:/Users/82106/Desktop/경영 캡스톤 프로젝트2/average_volumes.csv')\n",
    "df_beta_values = pd.read_csv('C:/Users/82106/Desktop/경영 캡스톤 프로젝트2/df_beta_values.csv')\n",
    "dividend_yields = pd.read_csv('C:/Users/82106/Desktop/경영 캡스톤 프로젝트2/dividend_yields.csv')\n",
    "per_values = pd.read_csv('C:/Users/82106/Desktop/경영 캡스톤 프로젝트2/per_values.csv')\n",
    "volatility_df = pd.read_csv('C:/Users/82106/Desktop/경영 캡스톤 프로젝트2/volatility_df.csv')\n",
    "\n",
    "# 모든 데이터를 'Ticker' 기준으로 병합\n",
    "data_frames = [average_rsi_df, average_volumes, df_beta_values, dividend_yields, per_values, volatility_df]\n",
    "merged_df = pd.concat(data_frames, axis=1)\n",
    "merged_df = merged_df.loc[:,~merged_df.columns.duplicated()]  # 중복 열 제거\n",
    "\n",
    "# 병합된 데이터 프레임 출력\n",
    "merged_df.head()\n"
   ]
  },
  {
   "cell_type": "markdown",
   "metadata": {},
   "source": [
    "### 배당수익률이 NaN인 행은 0으로 대체"
   ]
  },
  {
   "cell_type": "code",
   "execution_count": 2,
   "metadata": {},
   "outputs": [],
   "source": [
    "# 'DividendYield' 열의 결측치를 0으로 대체\n",
    "merged_df['DividendYield'] = merged_df['DividendYield'].fillna(0)"
   ]
  },
  {
   "cell_type": "code",
   "execution_count": 3,
   "metadata": {},
   "outputs": [],
   "source": [
    "merged_df.rename(columns={'0': 'volume'}, inplace=True)"
   ]
  },
  {
   "cell_type": "markdown",
   "metadata": {},
   "source": [
    "### 6개열에서 결측치가 한개라도 있는 행은 삭제"
   ]
  },
  {
   "cell_type": "code",
   "execution_count": 4,
   "metadata": {},
   "outputs": [
    {
     "name": "stdout",
     "output_type": "stream",
     "text": [
      "   Ticker        RSI        volume   Beta  DividendYield                 PER  \\\n",
      "0    AAPL  60.891036  6.888900e+07  1.264           0.55  {'PER': 28.970451}   \n",
      "1    MSFT  61.321318  6.343245e+06  0.893           0.72   {'PER': 35.88205}   \n",
      "2    AMZN  61.228543  5.172203e+06  1.155           0.00  {'PER': 52.407307}   \n",
      "4   GOOGL  53.160397  3.051076e+06  1.019           0.47  {'PER': 25.901989}   \n",
      "5    GOOG  53.086364  3.502121e+06  1.019           0.47  {'PER': 26.211655}   \n",
      "..    ...        ...           ...    ...            ...                 ...   \n",
      "93    CME  51.810189  6.287800e+06  0.488           4.15  {'PER': 23.908884}   \n",
      "94     CL  64.148240  2.044373e+07  0.394           2.10    {'PER': 29.9873}   \n",
      "95    PLD  63.595179  1.963317e+07  1.058           3.57   {'PER': 31.48538}   \n",
      "96   LRCX  62.697293  1.699392e+07  1.511           0.87   {'PER': 33.23979}   \n",
      "97     SO  59.866619  2.172282e+06  0.476           3.69  {'PER': 20.388601}   \n",
      "\n",
      "    Volatility  \n",
      "0     0.012570  \n",
      "1     0.015824  \n",
      "2     0.020805  \n",
      "4     0.019149  \n",
      "5     0.019283  \n",
      "..         ...  \n",
      "93    0.011325  \n",
      "94    0.010355  \n",
      "95    0.016672  \n",
      "96    0.022521  \n",
      "97    0.011885  \n",
      "\n",
      "[96 rows x 7 columns]\n"
     ]
    }
   ],
   "source": [
    "# 결측치가 있는 행 삭제\n",
    "cleaned_df = merged_df.dropna(subset=['PER', 'DividendYield', 'Beta','RSI','volume','Volatility'])\n",
    "\n",
    "# 결과 확인\n",
    "print(cleaned_df)"
   ]
  },
  {
   "cell_type": "markdown",
   "metadata": {},
   "source": [
    "13개 행이 삭제됨"
   ]
  },
  {
   "cell_type": "markdown",
   "metadata": {},
   "source": [
    "### 범주형 변수 인코딩"
   ]
  },
  {
   "cell_type": "code",
   "execution_count": 5,
   "metadata": {},
   "outputs": [
    {
     "name": "stdout",
     "output_type": "stream",
     "text": [
      "Data types before conversion:\n",
      "PER               object\n",
      "DividendYield    float64\n",
      "Beta             float64\n",
      "RSI              float64\n",
      "volume           float64\n",
      "Volatility       float64\n",
      "dtype: object\n"
     ]
    }
   ],
   "source": [
    "# 데이터 유형 확인\n",
    "print(\"Data types before conversion:\")\n",
    "print(cleaned_df[['PER', 'DividendYield', 'Beta','RSI','volume','Volatility']].dtypes)"
   ]
  },
  {
   "cell_type": "markdown",
   "metadata": {},
   "source": [
    "PER의 { } 안의 수만 추출 하도록 가공"
   ]
  },
  {
   "cell_type": "code",
   "execution_count": 6,
   "metadata": {},
   "outputs": [
    {
     "name": "stdout",
     "output_type": "stream",
     "text": [
      "   Ticker        PER\n",
      "0    AAPL  28.970451\n",
      "1    MSFT  35.882050\n",
      "2    AMZN  52.407307\n",
      "4   GOOGL  25.901989\n",
      "5    GOOG  26.211655\n",
      "..    ...        ...\n",
      "93    CME  23.908884\n",
      "94     CL  29.987300\n",
      "95    PLD  31.485380\n",
      "96   LRCX  33.239790\n",
      "97     SO  20.388601\n",
      "\n",
      "[96 rows x 2 columns]\n"
     ]
    },
    {
     "name": "stderr",
     "output_type": "stream",
     "text": [
      "C:\\Users\\82106\\AppData\\Local\\Temp\\ipykernel_40848\\2944089155.py:18: SettingWithCopyWarning: \n",
      "A value is trying to be set on a copy of a slice from a DataFrame.\n",
      "Try using .loc[row_indexer,col_indexer] = value instead\n",
      "\n",
      "See the caveats in the documentation: https://pandas.pydata.org/pandas-docs/stable/user_guide/indexing.html#returning-a-view-versus-a-copy\n",
      "  cleaned_df['PER'] = cleaned_df['PER'].apply(extract_per_value)\n"
     ]
    }
   ],
   "source": [
    "import ast\n",
    "import pandas as pd\n",
    "\n",
    "def extract_per_value(per_string):\n",
    "    if pd.isna(per_string):\n",
    "        return float('nan')  # 입력 값이 NaN인 경우, NaN 반환\n",
    "\n",
    "    try:\n",
    "        # 문자열을 사전으로 변환\n",
    "        per_dict = ast.literal_eval(per_string)\n",
    "        # 'PER' 키의 값을 float으로 변환하여 반환\n",
    "        return float(per_dict['PER']) if per_dict['PER'] is not None else float('nan')\n",
    "    except (ValueError, SyntaxError, KeyError, TypeError):\n",
    "        # 변환에 실패한 경우 NaN 반환\n",
    "        return float('nan')\n",
    "\n",
    "# 'PER' 열을 숫자형으로 변환\n",
    "cleaned_df['PER'] = cleaned_df['PER'].apply(extract_per_value)\n",
    "\n",
    "# 결과 확인\n",
    "print(cleaned_df[['Ticker', 'PER']])"
   ]
  },
  {
   "cell_type": "code",
   "execution_count": 7,
   "metadata": {},
   "outputs": [
    {
     "data": {
      "text/html": [
       "<div>\n",
       "<style scoped>\n",
       "    .dataframe tbody tr th:only-of-type {\n",
       "        vertical-align: middle;\n",
       "    }\n",
       "\n",
       "    .dataframe tbody tr th {\n",
       "        vertical-align: top;\n",
       "    }\n",
       "\n",
       "    .dataframe thead th {\n",
       "        text-align: right;\n",
       "    }\n",
       "</style>\n",
       "<table border=\"1\" class=\"dataframe\">\n",
       "  <thead>\n",
       "    <tr style=\"text-align: right;\">\n",
       "      <th></th>\n",
       "      <th>Ticker</th>\n",
       "      <th>RSI</th>\n",
       "      <th>volume</th>\n",
       "      <th>Beta</th>\n",
       "      <th>DividendYield</th>\n",
       "      <th>PER</th>\n",
       "      <th>Volatility</th>\n",
       "    </tr>\n",
       "  </thead>\n",
       "  <tbody>\n",
       "    <tr>\n",
       "      <th>0</th>\n",
       "      <td>AAPL</td>\n",
       "      <td>60.891036</td>\n",
       "      <td>6.888900e+07</td>\n",
       "      <td>1.264</td>\n",
       "      <td>0.55</td>\n",
       "      <td>28.970451</td>\n",
       "      <td>0.012570</td>\n",
       "    </tr>\n",
       "    <tr>\n",
       "      <th>1</th>\n",
       "      <td>MSFT</td>\n",
       "      <td>61.321318</td>\n",
       "      <td>6.343245e+06</td>\n",
       "      <td>0.893</td>\n",
       "      <td>0.72</td>\n",
       "      <td>35.882050</td>\n",
       "      <td>0.015824</td>\n",
       "    </tr>\n",
       "    <tr>\n",
       "      <th>2</th>\n",
       "      <td>AMZN</td>\n",
       "      <td>61.228543</td>\n",
       "      <td>5.172203e+06</td>\n",
       "      <td>1.155</td>\n",
       "      <td>0.00</td>\n",
       "      <td>52.407307</td>\n",
       "      <td>0.020805</td>\n",
       "    </tr>\n",
       "    <tr>\n",
       "      <th>4</th>\n",
       "      <td>GOOGL</td>\n",
       "      <td>53.160397</td>\n",
       "      <td>3.051076e+06</td>\n",
       "      <td>1.019</td>\n",
       "      <td>0.47</td>\n",
       "      <td>25.901989</td>\n",
       "      <td>0.019149</td>\n",
       "    </tr>\n",
       "    <tr>\n",
       "      <th>5</th>\n",
       "      <td>GOOG</td>\n",
       "      <td>53.086364</td>\n",
       "      <td>3.502121e+06</td>\n",
       "      <td>1.019</td>\n",
       "      <td>0.47</td>\n",
       "      <td>26.211655</td>\n",
       "      <td>0.019283</td>\n",
       "    </tr>\n",
       "    <tr>\n",
       "      <th>...</th>\n",
       "      <td>...</td>\n",
       "      <td>...</td>\n",
       "      <td>...</td>\n",
       "      <td>...</td>\n",
       "      <td>...</td>\n",
       "      <td>...</td>\n",
       "      <td>...</td>\n",
       "    </tr>\n",
       "    <tr>\n",
       "      <th>93</th>\n",
       "      <td>CME</td>\n",
       "      <td>51.810189</td>\n",
       "      <td>6.287800e+06</td>\n",
       "      <td>0.488</td>\n",
       "      <td>4.15</td>\n",
       "      <td>23.908884</td>\n",
       "      <td>0.011325</td>\n",
       "    </tr>\n",
       "    <tr>\n",
       "      <th>94</th>\n",
       "      <td>CL</td>\n",
       "      <td>64.148240</td>\n",
       "      <td>2.044373e+07</td>\n",
       "      <td>0.394</td>\n",
       "      <td>2.10</td>\n",
       "      <td>29.987300</td>\n",
       "      <td>0.010355</td>\n",
       "    </tr>\n",
       "    <tr>\n",
       "      <th>95</th>\n",
       "      <td>PLD</td>\n",
       "      <td>63.595179</td>\n",
       "      <td>1.963317e+07</td>\n",
       "      <td>1.058</td>\n",
       "      <td>3.57</td>\n",
       "      <td>31.485380</td>\n",
       "      <td>0.016672</td>\n",
       "    </tr>\n",
       "    <tr>\n",
       "      <th>96</th>\n",
       "      <td>LRCX</td>\n",
       "      <td>62.697293</td>\n",
       "      <td>1.699392e+07</td>\n",
       "      <td>1.511</td>\n",
       "      <td>0.87</td>\n",
       "      <td>33.239790</td>\n",
       "      <td>0.022521</td>\n",
       "    </tr>\n",
       "    <tr>\n",
       "      <th>97</th>\n",
       "      <td>SO</td>\n",
       "      <td>59.866619</td>\n",
       "      <td>2.172282e+06</td>\n",
       "      <td>0.476</td>\n",
       "      <td>3.69</td>\n",
       "      <td>20.388601</td>\n",
       "      <td>0.011885</td>\n",
       "    </tr>\n",
       "  </tbody>\n",
       "</table>\n",
       "<p>96 rows × 7 columns</p>\n",
       "</div>"
      ],
      "text/plain": [
       "   Ticker        RSI        volume   Beta  DividendYield        PER  \\\n",
       "0    AAPL  60.891036  6.888900e+07  1.264           0.55  28.970451   \n",
       "1    MSFT  61.321318  6.343245e+06  0.893           0.72  35.882050   \n",
       "2    AMZN  61.228543  5.172203e+06  1.155           0.00  52.407307   \n",
       "4   GOOGL  53.160397  3.051076e+06  1.019           0.47  25.901989   \n",
       "5    GOOG  53.086364  3.502121e+06  1.019           0.47  26.211655   \n",
       "..    ...        ...           ...    ...            ...        ...   \n",
       "93    CME  51.810189  6.287800e+06  0.488           4.15  23.908884   \n",
       "94     CL  64.148240  2.044373e+07  0.394           2.10  29.987300   \n",
       "95    PLD  63.595179  1.963317e+07  1.058           3.57  31.485380   \n",
       "96   LRCX  62.697293  1.699392e+07  1.511           0.87  33.239790   \n",
       "97     SO  59.866619  2.172282e+06  0.476           3.69  20.388601   \n",
       "\n",
       "    Volatility  \n",
       "0     0.012570  \n",
       "1     0.015824  \n",
       "2     0.020805  \n",
       "4     0.019149  \n",
       "5     0.019283  \n",
       "..         ...  \n",
       "93    0.011325  \n",
       "94    0.010355  \n",
       "95    0.016672  \n",
       "96    0.022521  \n",
       "97    0.011885  \n",
       "\n",
       "[96 rows x 7 columns]"
      ]
     },
     "execution_count": 7,
     "metadata": {},
     "output_type": "execute_result"
    }
   ],
   "source": [
    "cleaned_df"
   ]
  },
  {
   "cell_type": "markdown",
   "metadata": {},
   "source": [
    "### 결측치 처리하기"
   ]
  },
  {
   "cell_type": "code",
   "execution_count": 8,
   "metadata": {},
   "outputs": [
    {
     "name": "stdout",
     "output_type": "stream",
     "text": [
      "NaN 이 있는 티커:\n",
      "20    PFE\n",
      "40     BA\n",
      "41    MMM\n",
      "47    BMY\n",
      "85     MU\n",
      "Name: Ticker, dtype: object\n"
     ]
    }
   ],
   "source": [
    "# 'PER' 열에서 NaN 값을 가진 행을 식별\n",
    "nan_per_tickers = cleaned_df[cleaned_df['PER'].isna()]['Ticker']\n",
    "\n",
    "# 결과 출력\n",
    "print(\"NaN 이 있는 티커:\")\n",
    "print(nan_per_tickers)\n"
   ]
  },
  {
   "cell_type": "code",
   "execution_count": 9,
   "metadata": {},
   "outputs": [],
   "source": [
    "# 'PER' 열에서 NaN 값이 있는 행을 삭제\n",
    "cleaned_df = cleaned_df.dropna(subset=['PER'])"
   ]
  },
  {
   "cell_type": "code",
   "execution_count": 10,
   "metadata": {},
   "outputs": [
    {
     "name": "stdout",
     "output_type": "stream",
     "text": [
      "NaN 이 있는 티커:\n",
      "Series([], Name: Ticker, dtype: object)\n"
     ]
    }
   ],
   "source": [
    "# 'PER' 열에서 NaN 값을 가진 행을 식별\n",
    "nan_per_tickers = cleaned_df[cleaned_df['PER'].isna()]['Ticker']\n",
    "\n",
    "# 결과 출력\n",
    "print(\"NaN 이 있는 티커:\")\n",
    "print(nan_per_tickers)"
   ]
  },
  {
   "cell_type": "code",
   "execution_count": 11,
   "metadata": {},
   "outputs": [],
   "source": [
    "# 저장 경로 설정\n",
    "save_path = 'C:/Users/82106/Desktop/경영 캡스톤 프로젝트2/cleaned_data.csv'\n",
    "\n",
    "# 데이터 프레임을 CSV 파일로 저장\n",
    "cleaned_df.to_csv(save_path, index=False)"
   ]
  },
  {
   "cell_type": "code",
   "execution_count": null,
   "metadata": {},
   "outputs": [],
   "source": []
  }
 ],
 "metadata": {
  "kernelspec": {
   "display_name": "Python 3",
   "language": "python",
   "name": "python3"
  },
  "language_info": {
   "codemirror_mode": {
    "name": "ipython",
    "version": 3
   },
   "file_extension": ".py",
   "mimetype": "text/x-python",
   "name": "python",
   "nbconvert_exporter": "python",
   "pygments_lexer": "ipython3",
   "version": "3.10.2"
  }
 },
 "nbformat": 4,
 "nbformat_minor": 2
}
